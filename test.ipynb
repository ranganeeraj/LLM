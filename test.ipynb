{
  "nbformat": 4,
  "nbformat_minor": 0,
  "metadata": {
    "colab": {
      "provenance": [],
      "authorship_tag": "ABX9TyO1Da4TwoRwKdFd9mRxPc0k",
      "include_colab_link": true
    },
    "kernelspec": {
      "name": "python3",
      "display_name": "Python 3"
    },
    "language_info": {
      "name": "python"
    }
  },
  "cells": [
    {
      "cell_type": "markdown",
      "metadata": {
        "id": "view-in-github",
        "colab_type": "text"
      },
      "source": [
        "<a href=\"https://colab.research.google.com/github/ranganeeraj/LLM/blob/main/test.ipynb\" target=\"_parent\"><img src=\"https://colab.research.google.com/assets/colab-badge.svg\" alt=\"Open In Colab\"/></a>"
      ]
    },
    {
      "cell_type": "code",
      "source": [
        "Test neeraj"
      ],
      "metadata": {
        "id": "r7nPXkAIsDML"
      },
      "execution_count": null,
      "outputs": []
    },
    {
      "cell_type": "code",
      "execution_count": null,
      "metadata": {
        "id": "frEk2Pi75_oA"
      },
      "outputs": [],
      "source": [
        "$pip install huggingface_hub\n",
        "#You already have it if you installed transformers or datasets\n",
        "\n",
        "!huggingface-cli login\n",
        "#Log in using a token from huggingface.co/settings/tokens\n",
        "#Create a model or dataset repo from the CLI if needed\n",
        "!huggingface-cli repo create repo_name --type {model, dataset, space}"
      ]
    },
    {
      "cell_type": "code",
      "source": [
        "#Clone your model, dataset or Space locally\n",
        "\n",
        "#Make sure you have git-lfs installed\n",
        "#(https://git-lfs.github.com)\n",
        "$git lfs install\n",
        "$git clone https://huggingface.co/username/repo_name"
      ],
      "metadata": {
        "id": "Mh2PCjT_6JpS"
      },
      "execution_count": null,
      "outputs": []
    },
    {
      "cell_type": "code",
      "source": [
        "#Then add, commit and push any file you want, including larges files\n",
        "\n",
        " #save files via `.save_pretrained()` or move them here\n",
        "$git add .\n",
        "$git commit -m \"commit from $USER\"\n",
        "$git push"
      ],
      "metadata": {
        "id": "kuZy-F916ZSW"
      },
      "execution_count": null,
      "outputs": []
    },
    {
      "cell_type": "code",
      "source": [
        "#In most cases, if you're using one of the compatible libraries, your repo will then be accessible from code, through its identifier: username/repo_name\n",
        "\n",
        "#For example for a transformers model, anyone can load it with:\n",
        "\n",
        "tokenizer = AutoTokenizer.from_pretrained(\"username/repo_name\")\n",
        "model = AutoModel.from_pretrained(\"username/repo_name\")"
      ],
      "metadata": {
        "id": "qHoBpZzg6eM_"
      },
      "execution_count": null,
      "outputs": []
    }
  ]
}